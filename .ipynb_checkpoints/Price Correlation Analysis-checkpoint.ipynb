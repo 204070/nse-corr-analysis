{
 "cells": [
  {
   "cell_type": "markdown",
   "metadata": {
    "collapsed": true
   },
   "source": [
    "# Commodity Markets Correlation Analysis\n",
    "\n",
    "\n",
    "## by Oluwaseun Akinwunmi\n",
    "\n",
    "\n",
    "This notebook contains an analysis of the correlation between the prices of Gold, Brent Crude, Bitcoin and the Nigerian Stock Exchange All Share Index."
   ]
  },
  {
   "cell_type": "code",
   "execution_count": 1,
   "metadata": {
    "collapsed": true
   },
   "outputs": [],
   "source": [
    "import os\n",
    "import numpy as np\n",
    "import pandas as pd\n",
    "import quandl\n",
    "import pickle\n",
    "import matplotlib.pyplot as plt\n",
    "import seaborn as sns\n",
    "%matplotlib inline"
   ]
  },
  {
   "cell_type": "code",
   "execution_count": 2,
   "metadata": {
    "collapsed": true
   },
   "outputs": [],
   "source": [
    "# Returns id, currentPrice, changePercentage, currentDateTime, IndiciesData[tickertime, price]\n",
    "NSE_DATA_URL = 'http://www.nse.com.ng/REST/api/chartdata/ASI'"
   ]
  },
  {
   "cell_type": "code",
   "execution_count": 3,
   "metadata": {
    "collapsed": true
   },
   "outputs": [],
   "source": [
    "def get_quandl_data(quandl_id):\n",
    "    '''Download and cache Quandl dataseries for the last 6months'''\n",
    "    cache_path = '{}.pkl'.format(quandl_id).replace('/','-')\n",
    "    try:\n",
    "        f = open(cache_path, 'rb')\n",
    "        df = pickle.load(f)   \n",
    "        print('Loaded {} from cache'.format(quandl_id))\n",
    "    except (OSError, IOError) as e:\n",
    "        print('Downloading {} from Quandl'.format(quandl_id))\n",
    "        # Add qopts = { 'columns': ['date', *args] } as a kwarg to get more data\n",
    "        # collapse=\"monthly\",\n",
    "        df = quandl.get(quandl_id, returns=\"pandas\", start_date='2018-01-01', end_date='2018-06-30')\n",
    "        df.to_pickle(cache_path)\n",
    "        print('Cached {} at {}'.format(quandl_id, cache_path))\n",
    "    return df"
   ]
  },
  {
   "cell_type": "code",
   "execution_count": 4,
   "metadata": {
    "collapsed": true
   },
   "outputs": [],
   "source": [
    "def get_json_data(json_url, cache_path):\n",
    "    '''Download and cache JSON data, return as a dataframe.'''\n",
    "    try:        \n",
    "        f = open(cache_path, 'rb')\n",
    "        df = pickle.load(f)   \n",
    "        print('Loaded {} from cache'.format(json_url))\n",
    "    except (OSError, IOError) as e:\n",
    "        print('Downloading {}'.format(json_url))\n",
    "        df = pd.read_json(json_url)\n",
    "        df.to_pickle(cache_path)\n",
    "        print('Cached {} at {}'.format(json_url, cache_path))\n",
    "    return df"
   ]
  },
  {
   "cell_type": "code",
   "execution_count": 5,
   "metadata": {},
   "outputs": [
    {
     "name": "stdout",
     "output_type": "stream",
     "text": [
      "Loaded BCHARTS/COINBASEUSD from cache\n"
     ]
    },
    {
     "data": {
      "text/html": [
       "<div>\n",
       "<style>\n",
       "    .dataframe thead tr:only-child th {\n",
       "        text-align: right;\n",
       "    }\n",
       "\n",
       "    .dataframe thead th {\n",
       "        text-align: left;\n",
       "    }\n",
       "\n",
       "    .dataframe tbody tr th {\n",
       "        vertical-align: top;\n",
       "    }\n",
       "</style>\n",
       "<table border=\"1\" class=\"dataframe\">\n",
       "  <thead>\n",
       "    <tr style=\"text-align: right;\">\n",
       "      <th></th>\n",
       "      <th>Open</th>\n",
       "      <th>High</th>\n",
       "      <th>Low</th>\n",
       "      <th>Close</th>\n",
       "      <th>Volume (BTC)</th>\n",
       "      <th>Volume (Currency)</th>\n",
       "      <th>Weighted Price</th>\n",
       "    </tr>\n",
       "    <tr>\n",
       "      <th>Date</th>\n",
       "      <th></th>\n",
       "      <th></th>\n",
       "      <th></th>\n",
       "      <th></th>\n",
       "      <th></th>\n",
       "      <th></th>\n",
       "      <th></th>\n",
       "    </tr>\n",
       "  </thead>\n",
       "  <tbody>\n",
       "    <tr>\n",
       "      <th>2018-01-01</th>\n",
       "      <td>13863.14</td>\n",
       "      <td>13889.0</td>\n",
       "      <td>12952.50</td>\n",
       "      <td>13480.01</td>\n",
       "      <td>12058.273003</td>\n",
       "      <td>1.618661e+08</td>\n",
       "      <td>13423.654302</td>\n",
       "    </tr>\n",
       "    <tr>\n",
       "      <th>2018-01-02</th>\n",
       "      <td>13480.00</td>\n",
       "      <td>15275.0</td>\n",
       "      <td>13005.00</td>\n",
       "      <td>14781.51</td>\n",
       "      <td>26096.441001</td>\n",
       "      <td>3.698980e+08</td>\n",
       "      <td>14174.271174</td>\n",
       "    </tr>\n",
       "    <tr>\n",
       "      <th>2018-01-03</th>\n",
       "      <td>14781.52</td>\n",
       "      <td>15400.0</td>\n",
       "      <td>14628.00</td>\n",
       "      <td>15098.14</td>\n",
       "      <td>17616.327677</td>\n",
       "      <td>2.642264e+08</td>\n",
       "      <td>14998.951689</td>\n",
       "    </tr>\n",
       "    <tr>\n",
       "      <th>2018-01-04</th>\n",
       "      <td>15098.23</td>\n",
       "      <td>15400.0</td>\n",
       "      <td>14230.00</td>\n",
       "      <td>15144.99</td>\n",
       "      <td>19567.016783</td>\n",
       "      <td>2.909045e+08</td>\n",
       "      <td>14867.084719</td>\n",
       "    </tr>\n",
       "    <tr>\n",
       "      <th>2018-01-05</th>\n",
       "      <td>15145.00</td>\n",
       "      <td>17178.0</td>\n",
       "      <td>14819.78</td>\n",
       "      <td>16960.01</td>\n",
       "      <td>22588.046307</td>\n",
       "      <td>3.619888e+08</td>\n",
       "      <td>16025.681104</td>\n",
       "    </tr>\n",
       "  </tbody>\n",
       "</table>\n",
       "</div>"
      ],
      "text/plain": [
       "                Open     High       Low     Close  Volume (BTC)  \\\n",
       "Date                                                              \n",
       "2018-01-01  13863.14  13889.0  12952.50  13480.01  12058.273003   \n",
       "2018-01-02  13480.00  15275.0  13005.00  14781.51  26096.441001   \n",
       "2018-01-03  14781.52  15400.0  14628.00  15098.14  17616.327677   \n",
       "2018-01-04  15098.23  15400.0  14230.00  15144.99  19567.016783   \n",
       "2018-01-05  15145.00  17178.0  14819.78  16960.01  22588.046307   \n",
       "\n",
       "            Volume (Currency)  Weighted Price  \n",
       "Date                                           \n",
       "2018-01-01       1.618661e+08    13423.654302  \n",
       "2018-01-02       3.698980e+08    14174.271174  \n",
       "2018-01-03       2.642264e+08    14998.951689  \n",
       "2018-01-04       2.909045e+08    14867.084719  \n",
       "2018-01-05       3.619888e+08    16025.681104  "
      ]
     },
     "execution_count": 5,
     "metadata": {},
     "output_type": "execute_result"
    }
   ],
   "source": [
    "# Get bitcoin price data from quandl\n",
    "btc_data = get_quandl_data('BCHARTS/COINBASEUSD')\n",
    "btc_data.head()"
   ]
  },
  {
   "cell_type": "code",
   "execution_count": 6,
   "metadata": {},
   "outputs": [
    {
     "name": "stdout",
     "output_type": "stream",
     "text": [
      "            BTCPrice\n",
      "Date                \n",
      "2018-01-01  13863.14\n",
      "2018-01-02  13480.00\n",
      "2018-01-03  14781.52\n",
      "2018-01-04  15098.23\n",
      "2018-01-05  15145.00\n"
     ]
    },
    {
     "data": {
      "text/html": [
       "<div>\n",
       "<style>\n",
       "    .dataframe thead tr:only-child th {\n",
       "        text-align: right;\n",
       "    }\n",
       "\n",
       "    .dataframe thead th {\n",
       "        text-align: left;\n",
       "    }\n",
       "\n",
       "    .dataframe tbody tr th {\n",
       "        vertical-align: top;\n",
       "    }\n",
       "</style>\n",
       "<table border=\"1\" class=\"dataframe\">\n",
       "  <thead>\n",
       "    <tr style=\"text-align: right;\">\n",
       "      <th></th>\n",
       "      <th>BTCPrice</th>\n",
       "    </tr>\n",
       "    <tr>\n",
       "      <th>Date</th>\n",
       "      <th></th>\n",
       "    </tr>\n",
       "  </thead>\n",
       "  <tbody>\n",
       "    <tr>\n",
       "      <th>2018-06-26</th>\n",
       "      <td>6246.01</td>\n",
       "    </tr>\n",
       "    <tr>\n",
       "      <th>2018-06-27</th>\n",
       "      <td>6074.01</td>\n",
       "    </tr>\n",
       "    <tr>\n",
       "      <th>2018-06-28</th>\n",
       "      <td>6132.16</td>\n",
       "    </tr>\n",
       "    <tr>\n",
       "      <th>2018-06-29</th>\n",
       "      <td>5850.25</td>\n",
       "    </tr>\n",
       "    <tr>\n",
       "      <th>2018-06-30</th>\n",
       "      <td>6202.36</td>\n",
       "    </tr>\n",
       "  </tbody>\n",
       "</table>\n",
       "</div>"
      ],
      "text/plain": [
       "            BTCPrice\n",
       "Date                \n",
       "2018-06-26   6246.01\n",
       "2018-06-27   6074.01\n",
       "2018-06-28   6132.16\n",
       "2018-06-29   5850.25\n",
       "2018-06-30   6202.36"
      ]
     },
     "execution_count": 6,
     "metadata": {},
     "output_type": "execute_result"
    }
   ],
   "source": [
    "# Get only the `Open` Column\n",
    "btc_data = btc_data[['Open']]\n",
    "# Rename `Open` to `BTCPrice`\n",
    "btc_data = btc_data.rename(index=str, columns={\"Open\": \"BTCPrice\"});\n",
    "btc_data.index = pd.DatetimeIndex(btc_data.index)\n",
    "print(btc_data.head())\n",
    "btc_data.tail()"
   ]
  },
  {
   "cell_type": "code",
   "execution_count": 7,
   "metadata": {},
   "outputs": [
    {
     "name": "stdout",
     "output_type": "stream",
     "text": [
      "Loaded OPEC/ORB from cache\n"
     ]
    },
    {
     "data": {
      "text/html": [
       "<div>\n",
       "<style>\n",
       "    .dataframe thead tr:only-child th {\n",
       "        text-align: right;\n",
       "    }\n",
       "\n",
       "    .dataframe thead th {\n",
       "        text-align: left;\n",
       "    }\n",
       "\n",
       "    .dataframe tbody tr th {\n",
       "        vertical-align: top;\n",
       "    }\n",
       "</style>\n",
       "<table border=\"1\" class=\"dataframe\">\n",
       "  <thead>\n",
       "    <tr style=\"text-align: right;\">\n",
       "      <th></th>\n",
       "      <th>Value</th>\n",
       "    </tr>\n",
       "    <tr>\n",
       "      <th>Date</th>\n",
       "      <th></th>\n",
       "    </tr>\n",
       "  </thead>\n",
       "  <tbody>\n",
       "    <tr>\n",
       "      <th>2018-01-02</th>\n",
       "      <td>64.84</td>\n",
       "    </tr>\n",
       "    <tr>\n",
       "      <th>2018-01-03</th>\n",
       "      <td>65.13</td>\n",
       "    </tr>\n",
       "    <tr>\n",
       "      <th>2018-01-04</th>\n",
       "      <td>66.13</td>\n",
       "    </tr>\n",
       "    <tr>\n",
       "      <th>2018-01-05</th>\n",
       "      <td>65.86</td>\n",
       "    </tr>\n",
       "    <tr>\n",
       "      <th>2018-01-08</th>\n",
       "      <td>65.85</td>\n",
       "    </tr>\n",
       "  </tbody>\n",
       "</table>\n",
       "</div>"
      ],
      "text/plain": [
       "            Value\n",
       "Date             \n",
       "2018-01-02  64.84\n",
       "2018-01-03  65.13\n",
       "2018-01-04  66.13\n",
       "2018-01-05  65.86\n",
       "2018-01-08  65.85"
      ]
     },
     "execution_count": 7,
     "metadata": {},
     "output_type": "execute_result"
    }
   ],
   "source": [
    "# Get crude oil data from quandl\n",
    "crude_data = get_quandl_data('OPEC/ORB')\n",
    "crude_data.head()"
   ]
  },
  {
   "cell_type": "code",
   "execution_count": 8,
   "metadata": {},
   "outputs": [
    {
     "name": "stdout",
     "output_type": "stream",
     "text": [
      "            CrudePrice\n",
      "Date                  \n",
      "2018-01-02       64.84\n",
      "2018-01-03       65.13\n",
      "2018-01-04       66.13\n",
      "2018-01-05       65.86\n",
      "2018-01-08       65.85\n"
     ]
    },
    {
     "data": {
      "text/html": [
       "<div>\n",
       "<style>\n",
       "    .dataframe thead tr:only-child th {\n",
       "        text-align: right;\n",
       "    }\n",
       "\n",
       "    .dataframe thead th {\n",
       "        text-align: left;\n",
       "    }\n",
       "\n",
       "    .dataframe tbody tr th {\n",
       "        vertical-align: top;\n",
       "    }\n",
       "</style>\n",
       "<table border=\"1\" class=\"dataframe\">\n",
       "  <thead>\n",
       "    <tr style=\"text-align: right;\">\n",
       "      <th></th>\n",
       "      <th>CrudePrice</th>\n",
       "    </tr>\n",
       "    <tr>\n",
       "      <th>Date</th>\n",
       "      <th></th>\n",
       "    </tr>\n",
       "  </thead>\n",
       "  <tbody>\n",
       "    <tr>\n",
       "      <th>2018-06-21</th>\n",
       "      <td>70.96</td>\n",
       "    </tr>\n",
       "    <tr>\n",
       "      <th>2018-06-22</th>\n",
       "      <td>71.89</td>\n",
       "    </tr>\n",
       "    <tr>\n",
       "      <th>2018-06-25</th>\n",
       "      <td>72.15</td>\n",
       "    </tr>\n",
       "    <tr>\n",
       "      <th>2018-06-26</th>\n",
       "      <td>72.69</td>\n",
       "    </tr>\n",
       "    <tr>\n",
       "      <th>2018-06-27</th>\n",
       "      <td>74.31</td>\n",
       "    </tr>\n",
       "  </tbody>\n",
       "</table>\n",
       "</div>"
      ],
      "text/plain": [
       "            CrudePrice\n",
       "Date                  \n",
       "2018-06-21       70.96\n",
       "2018-06-22       71.89\n",
       "2018-06-25       72.15\n",
       "2018-06-26       72.69\n",
       "2018-06-27       74.31"
      ]
     },
     "execution_count": 8,
     "metadata": {},
     "output_type": "execute_result"
    }
   ],
   "source": [
    "# Rename `Value` to `CrudePrice`\n",
    "crude_data = crude_data.rename(index=str, columns={\"Value\": \"CrudePrice\"});\n",
    "crude_data.index = pd.DatetimeIndex(crude_data.index)\n",
    "print(crude_data.head())\n",
    "crude_data.tail()"
   ]
  },
  {
   "cell_type": "code",
   "execution_count": 9,
   "metadata": {},
   "outputs": [
    {
     "name": "stdout",
     "output_type": "stream",
     "text": [
      "Loaded LBMA/GOLD from cache\n"
     ]
    },
    {
     "data": {
      "text/html": [
       "<div>\n",
       "<style>\n",
       "    .dataframe thead tr:only-child th {\n",
       "        text-align: right;\n",
       "    }\n",
       "\n",
       "    .dataframe thead th {\n",
       "        text-align: left;\n",
       "    }\n",
       "\n",
       "    .dataframe tbody tr th {\n",
       "        vertical-align: top;\n",
       "    }\n",
       "</style>\n",
       "<table border=\"1\" class=\"dataframe\">\n",
       "  <thead>\n",
       "    <tr style=\"text-align: right;\">\n",
       "      <th></th>\n",
       "      <th>USD (AM)</th>\n",
       "      <th>USD (PM)</th>\n",
       "      <th>GBP (AM)</th>\n",
       "      <th>GBP (PM)</th>\n",
       "      <th>EURO (AM)</th>\n",
       "      <th>EURO (PM)</th>\n",
       "    </tr>\n",
       "    <tr>\n",
       "      <th>Date</th>\n",
       "      <th></th>\n",
       "      <th></th>\n",
       "      <th></th>\n",
       "      <th></th>\n",
       "      <th></th>\n",
       "      <th></th>\n",
       "    </tr>\n",
       "  </thead>\n",
       "  <tbody>\n",
       "    <tr>\n",
       "      <th>2018-01-02</th>\n",
       "      <td>1312.8</td>\n",
       "      <td>1312.05</td>\n",
       "      <td>968.85</td>\n",
       "      <td>968.29</td>\n",
       "      <td>1087.52</td>\n",
       "      <td>1090.05</td>\n",
       "    </tr>\n",
       "    <tr>\n",
       "      <th>2018-01-03</th>\n",
       "      <td>1314.6</td>\n",
       "      <td>1314.90</td>\n",
       "      <td>968.20</td>\n",
       "      <td>972.37</td>\n",
       "      <td>1092.96</td>\n",
       "      <td>1094.92</td>\n",
       "    </tr>\n",
       "    <tr>\n",
       "      <th>2018-01-04</th>\n",
       "      <td>1313.7</td>\n",
       "      <td>1314.50</td>\n",
       "      <td>969.77</td>\n",
       "      <td>970.36</td>\n",
       "      <td>1090.24</td>\n",
       "      <td>1088.01</td>\n",
       "    </tr>\n",
       "    <tr>\n",
       "      <th>2018-01-05</th>\n",
       "      <td>1317.9</td>\n",
       "      <td>1317.15</td>\n",
       "      <td>973.40</td>\n",
       "      <td>972.19</td>\n",
       "      <td>1094.25</td>\n",
       "      <td>1095.08</td>\n",
       "    </tr>\n",
       "    <tr>\n",
       "      <th>2018-01-08</th>\n",
       "      <td>1318.8</td>\n",
       "      <td>1319.95</td>\n",
       "      <td>974.33</td>\n",
       "      <td>973.86</td>\n",
       "      <td>1099.09</td>\n",
       "      <td>1103.21</td>\n",
       "    </tr>\n",
       "  </tbody>\n",
       "</table>\n",
       "</div>"
      ],
      "text/plain": [
       "            USD (AM)  USD (PM)  GBP (AM)  GBP (PM)  EURO (AM)  EURO (PM)\n",
       "Date                                                                    \n",
       "2018-01-02    1312.8   1312.05    968.85    968.29    1087.52    1090.05\n",
       "2018-01-03    1314.6   1314.90    968.20    972.37    1092.96    1094.92\n",
       "2018-01-04    1313.7   1314.50    969.77    970.36    1090.24    1088.01\n",
       "2018-01-05    1317.9   1317.15    973.40    972.19    1094.25    1095.08\n",
       "2018-01-08    1318.8   1319.95    974.33    973.86    1099.09    1103.21"
      ]
     },
     "execution_count": 9,
     "metadata": {},
     "output_type": "execute_result"
    }
   ],
   "source": [
    "# Get gold data from quandl\n",
    "gold_data = get_quandl_data('LBMA/GOLD');\n",
    "gold_data.head()"
   ]
  },
  {
   "cell_type": "code",
   "execution_count": 10,
   "metadata": {},
   "outputs": [
    {
     "name": "stdout",
     "output_type": "stream",
     "text": [
      "            GoldPrice\n",
      "Date                 \n",
      "2018-01-02     1312.8\n",
      "2018-01-03     1314.6\n",
      "2018-01-04     1313.7\n",
      "2018-01-05     1317.9\n",
      "2018-01-08     1318.8\n"
     ]
    },
    {
     "data": {
      "text/html": [
       "<div>\n",
       "<style>\n",
       "    .dataframe thead tr:only-child th {\n",
       "        text-align: right;\n",
       "    }\n",
       "\n",
       "    .dataframe thead th {\n",
       "        text-align: left;\n",
       "    }\n",
       "\n",
       "    .dataframe tbody tr th {\n",
       "        vertical-align: top;\n",
       "    }\n",
       "</style>\n",
       "<table border=\"1\" class=\"dataframe\">\n",
       "  <thead>\n",
       "    <tr style=\"text-align: right;\">\n",
       "      <th></th>\n",
       "      <th>GoldPrice</th>\n",
       "    </tr>\n",
       "    <tr>\n",
       "      <th>Date</th>\n",
       "      <th></th>\n",
       "    </tr>\n",
       "  </thead>\n",
       "  <tbody>\n",
       "    <tr>\n",
       "      <th>2018-06-25</th>\n",
       "      <td>1269.80</td>\n",
       "    </tr>\n",
       "    <tr>\n",
       "      <th>2018-06-26</th>\n",
       "      <td>1257.15</td>\n",
       "    </tr>\n",
       "    <tr>\n",
       "      <th>2018-06-27</th>\n",
       "      <td>1256.80</td>\n",
       "    </tr>\n",
       "    <tr>\n",
       "      <th>2018-06-28</th>\n",
       "      <td>1250.50</td>\n",
       "    </tr>\n",
       "    <tr>\n",
       "      <th>2018-06-29</th>\n",
       "      <td>1250.55</td>\n",
       "    </tr>\n",
       "  </tbody>\n",
       "</table>\n",
       "</div>"
      ],
      "text/plain": [
       "            GoldPrice\n",
       "Date                 \n",
       "2018-06-25    1269.80\n",
       "2018-06-26    1257.15\n",
       "2018-06-27    1256.80\n",
       "2018-06-28    1250.50\n",
       "2018-06-29    1250.55"
      ]
     },
     "execution_count": 10,
     "metadata": {},
     "output_type": "execute_result"
    }
   ],
   "source": [
    "# Get only the `USD (AM)` column\n",
    "gold_data = gold_data[['USD (AM)']]\n",
    "# Rename `USD (AM)` to `GoldPrice`\n",
    "gold_data = gold_data.rename(index=str, columns={\"USD (AM)\": \"GoldPrice\"});\n",
    "gold_data.index = pd.DatetimeIndex(gold_data.index)\n",
    "print(gold_data.head())\n",
    "gold_data.tail()"
   ]
  },
  {
   "cell_type": "code",
   "execution_count": 11,
   "metadata": {},
   "outputs": [
    {
     "name": "stdout",
     "output_type": "stream",
     "text": [
      "Loaded http://www.nse.com.ng/REST/api/chartdata/ASI from cache\n"
     ]
    },
    {
     "data": {
      "text/html": [
       "<div>\n",
       "<style>\n",
       "    .dataframe thead tr:only-child th {\n",
       "        text-align: right;\n",
       "    }\n",
       "\n",
       "    .dataframe thead th {\n",
       "        text-align: left;\n",
       "    }\n",
       "\n",
       "    .dataframe tbody tr th {\n",
       "        vertical-align: top;\n",
       "    }\n",
       "</style>\n",
       "<table border=\"1\" class=\"dataframe\">\n",
       "  <thead>\n",
       "    <tr style=\"text-align: right;\">\n",
       "      <th></th>\n",
       "      <th>$id</th>\n",
       "      <th>IndiciesData</th>\n",
       "      <th>changePercentage</th>\n",
       "      <th>currentDateTime</th>\n",
       "      <th>currentPrice</th>\n",
       "    </tr>\n",
       "  </thead>\n",
       "  <tbody>\n",
       "    <tr>\n",
       "      <th>0</th>\n",
       "      <td>1</td>\n",
       "      <td>[827107200000.0, 5237.05]</td>\n",
       "      <td>0.828734</td>\n",
       "      <td>2018-06-29T00:00:00</td>\n",
       "      <td>38278.55</td>\n",
       "    </tr>\n",
       "    <tr>\n",
       "      <th>1</th>\n",
       "      <td>1</td>\n",
       "      <td>[827193600000.0, 5243.71]</td>\n",
       "      <td>0.828734</td>\n",
       "      <td>2018-06-29T00:00:00</td>\n",
       "      <td>38278.55</td>\n",
       "    </tr>\n",
       "    <tr>\n",
       "      <th>2</th>\n",
       "      <td>1</td>\n",
       "      <td>[827280000000.0, 5250.81]</td>\n",
       "      <td>0.828734</td>\n",
       "      <td>2018-06-29T00:00:00</td>\n",
       "      <td>38278.55</td>\n",
       "    </tr>\n",
       "    <tr>\n",
       "      <th>3</th>\n",
       "      <td>1</td>\n",
       "      <td>[827366400000.0, 5254.02]</td>\n",
       "      <td>0.828734</td>\n",
       "      <td>2018-06-29T00:00:00</td>\n",
       "      <td>38278.55</td>\n",
       "    </tr>\n",
       "    <tr>\n",
       "      <th>4</th>\n",
       "      <td>1</td>\n",
       "      <td>[827452800000.0, 5258.55]</td>\n",
       "      <td>0.828734</td>\n",
       "      <td>2018-06-29T00:00:00</td>\n",
       "      <td>38278.55</td>\n",
       "    </tr>\n",
       "  </tbody>\n",
       "</table>\n",
       "</div>"
      ],
      "text/plain": [
       "   $id               IndiciesData  changePercentage      currentDateTime  \\\n",
       "0    1  [827107200000.0, 5237.05]          0.828734  2018-06-29T00:00:00   \n",
       "1    1  [827193600000.0, 5243.71]          0.828734  2018-06-29T00:00:00   \n",
       "2    1  [827280000000.0, 5250.81]          0.828734  2018-06-29T00:00:00   \n",
       "3    1  [827366400000.0, 5254.02]          0.828734  2018-06-29T00:00:00   \n",
       "4    1  [827452800000.0, 5258.55]          0.828734  2018-06-29T00:00:00   \n",
       "\n",
       "   currentPrice  \n",
       "0      38278.55  \n",
       "1      38278.55  \n",
       "2      38278.55  \n",
       "3      38278.55  \n",
       "4      38278.55  "
      ]
     },
     "execution_count": 11,
     "metadata": {},
     "output_type": "execute_result"
    }
   ],
   "source": [
    "# Get NSE data using REST api\n",
    "nse_data_raw = get_json_data(NSE_DATA_URL, 'nse_data.json')\n",
    "nse_data_raw.head()"
   ]
  },
  {
   "cell_type": "code",
   "execution_count": 12,
   "metadata": {},
   "outputs": [
    {
     "data": {
      "text/html": [
       "<div>\n",
       "<style>\n",
       "    .dataframe thead tr:only-child th {\n",
       "        text-align: right;\n",
       "    }\n",
       "\n",
       "    .dataframe thead th {\n",
       "        text-align: left;\n",
       "    }\n",
       "\n",
       "    .dataframe tbody tr th {\n",
       "        vertical-align: top;\n",
       "    }\n",
       "</style>\n",
       "<table border=\"1\" class=\"dataframe\">\n",
       "  <thead>\n",
       "    <tr style=\"text-align: right;\">\n",
       "      <th></th>\n",
       "      <th>NSEPrice</th>\n",
       "    </tr>\n",
       "    <tr>\n",
       "      <th>Date</th>\n",
       "      <th></th>\n",
       "    </tr>\n",
       "  </thead>\n",
       "  <tbody>\n",
       "    <tr>\n",
       "      <th>2018-06-25</th>\n",
       "      <td>37992.12</td>\n",
       "    </tr>\n",
       "    <tr>\n",
       "      <th>2018-06-26</th>\n",
       "      <td>37992.12</td>\n",
       "    </tr>\n",
       "    <tr>\n",
       "      <th>2018-06-27</th>\n",
       "      <td>37963.93</td>\n",
       "    </tr>\n",
       "    <tr>\n",
       "      <th>2018-06-28</th>\n",
       "      <td>37963.93</td>\n",
       "    </tr>\n",
       "    <tr>\n",
       "      <th>2018-06-29</th>\n",
       "      <td>38278.55</td>\n",
       "    </tr>\n",
       "  </tbody>\n",
       "</table>\n",
       "</div>"
      ],
      "text/plain": [
       "            NSEPrice\n",
       "Date                \n",
       "2018-06-25  37992.12\n",
       "2018-06-26  37992.12\n",
       "2018-06-27  37963.93\n",
       "2018-06-28  37963.93\n",
       "2018-06-29  38278.55"
      ]
     },
     "execution_count": 12,
     "metadata": {},
     "output_type": "execute_result"
    }
   ],
   "source": [
    "# Clean raw NSE data\n",
    "from datetime import datetime, date\n",
    "\n",
    "nse_time = []\n",
    "nse_price = []\n",
    "\n",
    "for t in nse_data_raw['IndiciesData']:\n",
    "    # change timestamp to date objects\n",
    "    nse_time.append(datetime.fromtimestamp(t[0]/1000).strftime('%Y-%m-%d'))\n",
    "    nse_price.append(t[1])\n",
    "\n",
    "# Create a new DataFrame for the NSE data using processed time and price\n",
    "nse_data = pd.DataFrame({'Date': nse_time, 'NSEPrice': nse_price}, columns=['Date','NSEPrice'])\n",
    "# Set Date as NSE data index\n",
    "nse_data.index = pd.DatetimeIndex(nse_data['Date'])\n",
    "nse_data = nse_data[['NSEPrice']]\n",
    "# Retrieve only data from the last 6 months\n",
    "nse_data = nse_data['2018-01-01':'2018-06-30']\n",
    "nse_data = nse_data[~nse_data.index.duplicated()]\n",
    "nse_data.head()\n",
    "nse_data.tail()"
   ]
  },
  {
   "cell_type": "code",
   "execution_count": 13,
   "metadata": {},
   "outputs": [
    {
     "data": {
      "image/png": "[encoded data removed]",
      "text/plain": [
       "<matplotlib.figure.Figure at 0x7f88e65e2940>"
      ]
     },
     "metadata": {},
     "output_type": "display_data"
    },
    {
     "data": {
      "image/png": "[encoded data removed]",
      "text/plain": [
       "<matplotlib.figure.Figure at 0x7f88e65e2ac8>"
      ]
     },
     "metadata": {},
     "output_type": "display_data"
    },
    {
     "data": {
      "image/png": "[encoded data removed]",
      "text/plain": [
       "<matplotlib.figure.Figure at 0x7f88e65e27f0>"
      ]
     },
     "metadata": {},
     "output_type": "display_data"
    },
    {
     "data": {
      "image/png": "[encoded data removed]",
      "text/plain": [
       "<matplotlib.figure.Figure at 0x7f88e5fb3eb8>"
      ]
     },
     "metadata": {},
     "output_type": "display_data"
    }
   ],
   "source": [
    "# Plot Graph Data\n",
    "btc_data.plot()\n",
    "crude_data.plot()\n",
    "gold_data.plot()\n",
    "nse_data.plot()\n",
    "plt.show()"
   ]
  },
  {
   "cell_type": "code",
   "execution_count": 14,
   "metadata": {
    "collapsed": true
   },
   "outputs": [],
   "source": [
    "# Fill in missing dates for dataset with either the previous or next value in the series\n",
    "idx = pd.date_range('2018-01-01', '2018-06-30')\n",
    "\n",
    "btc_data_filled = btc_data.reindex(idx, method='nearest')\n",
    "crude_data_filled = crude_data.reindex(idx, method='nearest')\n",
    "gold_data_filled = gold_data.reindex(idx, method='nearest')\n",
    "nse_data_filled = nse_data.reindex(idx, method='nearest')"
   ]
  },
  {
   "cell_type": "code",
   "execution_count": 15,
   "metadata": {
    "collapsed": true
   },
   "outputs": [],
   "source": [
    "# Fill in missing dates for dataset with either the previous or next value in the series\n",
    "idx = pd.date_range('2018-01-01', '2018-06-30')\n",
    "\n",
    "btc_data = btc_data.reindex(idx)\n",
    "crude_data = crude_data.reindex(idx)\n",
    "gold_data = gold_data.reindex(idx)\n",
    "nse_data = nse_data.reindex(idx)"
   ]
  },
  {
   "cell_type": "code",
   "execution_count": 16,
   "metadata": {},
   "outputs": [
    {
     "name": "stdout",
     "output_type": "stream",
     "text": [
      "---BTC---\n",
      "<class 'pandas.core.frame.DataFrame'>\n",
      "DatetimeIndex: 181 entries, 2018-01-01 to 2018-06-30\n",
      "Freq: D\n",
      "Data columns (total 1 columns):\n",
      "BTCPrice    181 non-null float64\n",
      "dtypes: float64(1)\n",
      "memory usage: 2.8 KB\n",
      "\n",
      "---CRUDE---\n",
      "<class 'pandas.core.frame.DataFrame'>\n",
      "DatetimeIndex: 181 entries, 2018-01-01 to 2018-06-30\n",
      "Freq: D\n",
      "Data columns (total 1 columns):\n",
      "CrudePrice    126 non-null float64\n",
      "dtypes: float64(1)\n",
      "memory usage: 2.8 KB\n",
      "\n",
      "---GOLD---\n",
      "<class 'pandas.core.frame.DataFrame'>\n",
      "DatetimeIndex: 181 entries, 2018-01-01 to 2018-06-30\n",
      "Freq: D\n",
      "Data columns (total 1 columns):\n",
      "GoldPrice    125 non-null float64\n",
      "dtypes: float64(1)\n",
      "memory usage: 2.8 KB\n",
      "\n",
      "---NSE---\n",
      "<class 'pandas.core.frame.DataFrame'>\n",
      "DatetimeIndex: 181 entries, 2018-01-01 to 2018-06-30\n",
      "Freq: D\n",
      "Data columns (total 1 columns):\n",
      "NSEPrice    123 non-null float64\n",
      "dtypes: float64(1)\n",
      "memory usage: 2.8 KB\n"
     ]
    }
   ],
   "source": [
    "print(\"---BTC---\"); btc_data.info()\n",
    "print(\"\\n---CRUDE---\"); crude_data.info() \n",
    "print(\"\\n---GOLD---\"); gold_data.info()\n",
    "print(\"\\n---NSE---\");nse_data.info()"
   ]
  },
  {
   "cell_type": "code",
   "execution_count": 17,
   "metadata": {
    "collapsed": true
   },
   "outputs": [],
   "source": [
    "btc_data.to_csv('btc.csv')\n",
    "crude_data.to_csv('crude.csv')\n",
    "gold_data.to_csv('gold.csv')\n",
    "nse_data.to_csv('nse.csv')"
   ]
  },
  {
   "cell_type": "code",
   "execution_count": 18,
   "metadata": {},
   "outputs": [
    {
     "data": {
      "text/plain": [
       "array([[<matplotlib.axes._subplots.AxesSubplot object at 0x7f88e5feb7f0>]], dtype=object)"
      ]
     },
     "execution_count": 18,
     "metadata": {},
     "output_type": "execute_result"
    },
    {
     "data": {
      "image/png": "[encoded data removed]",
      "text/plain": [
       "<matplotlib.figure.Figure at 0x7f88e2677208>"
      ]
     },
     "metadata": {},
     "output_type": "display_data"
    },
    {
     "data": {
      "image/png": "[encoded data removed]",
      "text/plain": [
       "<matplotlib.figure.Figure at 0x7f88e25f5b00>"
      ]
     },
     "metadata": {},
     "output_type": "display_data"
    },
    {
     "data": {
      "image/png": "[encoded data removed]",
      "text/plain": [
       "<matplotlib.figure.Figure at 0x7f88e24cd2e8>"
      ]
     },
     "metadata": {},
     "output_type": "display_data"
    },
    {
     "data": {
      "image/png": "[encoded data removed]",
      "text/plain": [
       "<matplotlib.figure.Figure at 0x7f88e6038d68>"
      ]
     },
     "metadata": {},
     "output_type": "display_data"
    }
   ],
   "source": [
    "btc_data.pct_change().hist(bins=50)\n",
    "crude_data.pct_change().hist(bins=50)\n",
    "gold_data.pct_change().hist(bins=50)\n",
    "nse_data.pct_change().hist(bins=50)"
   ]
  },
  {
   "cell_type": "code",
   "execution_count": 19,
   "metadata": {
    "collapsed": true
   },
   "outputs": [],
   "source": [
    "df = btc_data.join(crude_data).join(gold_data).join(nse_data)\n",
    "df_filled = btc_data_filled.join(crude_data_filled).join(gold_data_filled).join(nse_data_filled)"
   ]
  },
  {
   "cell_type": "code",
   "execution_count": 20,
   "metadata": {},
   "outputs": [
    {
     "data": {
      "image/png": "[encoded data removed]",
      "text/plain": [
       "<matplotlib.figure.Figure at 0x7f88e65ccac8>"
      ]
     },
     "metadata": {},
     "output_type": "display_data"
    }
   ],
   "source": [
    "f = plt.figure()\n",
    "\n",
    "ax = df_filled.plot(logy=True, ax=f.gca())\n",
    "plt.title('Graph of Log Price against Time', color='black')\n",
    "ax.legend(loc='center left', bbox_to_anchor=(1, 0.5))\n",
    "\n",
    "plt.show()\n"
   ]
  },
  {
   "cell_type": "code",
   "execution_count": 21,
   "metadata": {
    "collapsed": true
   },
   "outputs": [],
   "source": [
    "corr_matrix = df.pct_change().corr()"
   ]
  },
  {
   "cell_type": "code",
   "execution_count": 22,
   "metadata": {},
   "outputs": [
    {
     "data": {
      "text/plain": [
       "<matplotlib.axes._subplots.AxesSubplot at 0x7f88e2095550>"
      ]
     },
     "execution_count": 22,
     "metadata": {},
     "output_type": "execute_result"
    },
    {
     "data": {
      "image/png": "[encoded data removed]",
      "text/plain": [
       "<matplotlib.figure.Figure at 0x7f88e208d908>"
      ]
     },
     "metadata": {},
     "output_type": "display_data"
    }
   ],
   "source": [
    "sns.heatmap(corr_matrix,linewidths=2.0, annot=True)"
   ]
  },
  {
   "cell_type": "markdown",
   "metadata": {
    "collapsed": true,
    "slideshow": {
     "slide_type": "slide"
    }
   },
   "source": [
    "## CONCLUSION\n",
    "\n",
    "The correlation analysis of the various Commodity markets for Q1 and Q2 of 2018 shows that:\n",
    "\n",
    "- There is no linear relationship between the price of Bitcoin and the price of the other commodities\n",
    "- There is a mild linear relationship between the prices of Gold and Crude Oil therefore it can be expected that the price of Gold would rise if the price of Crude Oil rises and vice versa.\n",
    "- There is no linear relationship between the value of the Nigerian Stock exchange All Share Index (ASI) and the prices of Bitcoin, Gold and Crude.\n"
   ]
  }
 ],
 "metadata": {
  "celltoolbar": "Slideshow",
  "kernelspec": {
   "display_name": "Python 3",
   "language": "python",
   "name": "python3"
  },
  "language_info": {
   "codemirror_mode": {
    "name": "ipython",
    "version": 3
   },
   "file_extension": ".py",
   "mimetype": "text/x-python",
   "name": "python",
   "nbconvert_exporter": "python",
   "pygments_lexer": "ipython3",
   "version": "3.6.3"
  }
 },
 "nbformat": 4,
 "nbformat_minor": 2
}
